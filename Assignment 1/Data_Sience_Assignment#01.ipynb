{
 "cells": [
  {
   "cell_type": "code",
   "execution_count": 8,
   "id": "22b3e241",
   "metadata": {},
   "outputs": [
    {
     "name": "stdout",
     "output_type": "stream",
     "text": [
      "Twinkle, twinkle, little star,\n",
      "\tHow I wonder what you are!\n",
      "\t\tUp above the world so high,\n",
      "\t\tLike a diamond in the sky.\n",
      "Twinkle, twinkle, little star,\n",
      "\tHow I wonder what you are\n"
     ]
    }
   ],
   "source": [
    "print(\"Twinkle, twinkle, little star,\\n\\tHow I wonder what you are!\\n\\t\\tUp above the world so high,\\n\\t\\tLike a diamond in the sky.\\nTwinkle, twinkle, little star,\\n\\tHow I wonder what you are\")"
   ]
  },
  {
   "cell_type": "code",
   "execution_count": 9,
   "id": "1b977759",
   "metadata": {},
   "outputs": [
    {
     "name": "stdout",
     "output_type": "stream",
     "text": [
      "3.10.0 (tags/v3.10.0:b494f59, Oct  4 2021, 19:00:18) [MSC v.1929 64 bit (AMD64)]\n"
     ]
    }
   ],
   "source": [
    "import sys\n",
    "print(sys.version)"
   ]
  },
  {
   "cell_type": "code",
   "execution_count": 10,
   "id": "67d198ae",
   "metadata": {},
   "outputs": [
    {
     "name": "stdout",
     "output_type": "stream",
     "text": [
      "now = 2022-01-02 02:12:31.335807\n"
     ]
    }
   ],
   "source": [
    "from datetime import datetime\n",
    "today = datetime.now()\n",
    "print(\"now =\", today)"
   ]
  },
  {
   "cell_type": "code",
   "execution_count": 3,
   "id": "9930ac7e",
   "metadata": {},
   "outputs": [
    {
     "name": "stdout",
     "output_type": "stream",
     "text": [
      "Area of circle is 28.26\n"
     ]
    }
   ],
   "source": [
    "a = int(input(\"Enter a radius:\"))\n",
    "b= 3.14*(a*a)\n",
    "print(\"Area of circle is {0}\".format(b))"
   ]
  },
  {
   "cell_type": "code",
   "execution_count": 2,
   "id": "9f6ff8c5",
   "metadata": {},
   "outputs": [
    {
     "name": "stdout",
     "output_type": "stream",
     "text": [
      "ilAnamuoN\n"
     ]
    }
   ],
   "source": [
    "def string_reverse(str1):\n",
    "\n",
    "    str2 = ''\n",
    "    index = len(str1)\n",
    "    while index > 0:\n",
    "        str2 += str1[ index - 1 ]\n",
    "        index = index - 1\n",
    "    return str2\n",
    "print(string_reverse(input()))"
   ]
  },
  {
   "cell_type": "code",
   "execution_count": 82,
   "id": "280b8eb8",
   "metadata": {},
   "outputs": [
    {
     "name": "stdout",
     "output_type": "stream",
     "text": [
      "Enter first number = 4\n",
      "Enter second number = 5\n",
      "sum of two number is = 9 \n"
     ]
    }
   ],
   "source": [
    "a = int(input(\"Enter first number = \"))\n",
    "b = int(input(\"Enter second number = \"))\n",
    "c=a+b\n",
    "print((\"sum of two number is = {0} \".format(c)))"
   ]
  },
  {
   "cell_type": "code",
   "execution_count": null,
   "id": "bbe0bbc3",
   "metadata": {},
   "outputs": [],
   "source": []
  }
 ],
 "metadata": {
  "kernelspec": {
   "display_name": "Python 3",
   "language": "python",
   "name": "python3"
  },
  "language_info": {
   "codemirror_mode": {
    "name": "ipython",
    "version": 3
   },
   "file_extension": ".py",
   "mimetype": "text/x-python",
   "name": "python",
   "nbconvert_exporter": "python",
   "pygments_lexer": "ipython3",
   "version": "3.10.0"
  }
 },
 "nbformat": 4,
 "nbformat_minor": 5
}
